{
 "cells": [
  {
   "cell_type": "code",
   "execution_count": 16,
   "metadata": {},
   "outputs": [],
   "source": [
    "from scipy.constants import speed_of_light as c\n",
    "import numpy as np\n",
    "from IPython.display import Math, display\n",
    "import sympy as sp"
   ]
  },
  {
   "cell_type": "code",
   "execution_count": 14,
   "metadata": {},
   "outputs": [
    {
     "data": {
      "text/latex": [
       "$\\displaystyle \\lambda_0=0.0299792458$"
      ],
      "text/plain": [
       "<IPython.core.display.Math object>"
      ]
     },
     "metadata": {},
     "output_type": "display_data"
    },
    {
     "data": {
      "text/latex": [
       "$\\displaystyle \\lambda_w=0.0397071192111121$"
      ],
      "text/plain": [
       "<IPython.core.display.Math object>"
      ]
     },
     "metadata": {},
     "output_type": "display_data"
    },
    {
     "data": {
      "text/latex": [
       "$\\displaystyle v_p=397071192.111121$"
      ],
      "text/plain": [
       "<IPython.core.display.Math object>"
      ]
     },
     "metadata": {},
     "output_type": "display_data"
    }
   ],
   "source": [
    "f = 10e9  # 10 GHz\n",
    "a = 22.86e-3  # 22.86 mm in meters\n",
    "\n",
    "lambda_0 = c/f\n",
    "lambda_w = lambda_0 / (np.sqrt(1 - (lambda_0/ (2 * a))**2))\n",
    "v = lambda_w * f\n",
    "display(Math(rf\"\\lambda_0={lambda_0}\"))\n",
    "display(Math(rf\"\\lambda_w={lambda_w}\"))\n",
    "display(Math(rf\"v_p={v}\"))"
   ]
  },
  {
   "cell_type": "code",
   "execution_count": 23,
   "metadata": {},
   "outputs": [],
   "source": [
    "# Measurements\n",
    "measurements = [(10e9, 0.03), (10e9, 0.03)]"
   ]
  },
  {
   "cell_type": "code",
   "execution_count": 24,
   "metadata": {},
   "outputs": [
    {
     "data": {
      "text/latex": [
       "$\\displaystyle \n",
       "\\begin{array}{|c|c|c|c|c|c|}\n",
       "\\hline\n",
       "f (\\text{GHz}) & \\lambda_{w,\\text{meas}} (m) & v_{p,\\text{meas}} (m/s) & \\lambda_0 (m) & \\lambda_w (m) & v_p (m/s) \\\\\n",
       "\\hline\n",
       "10.00 & 0.03000 & 3.000e+08 & 0.02998 & 0.03971 & 3.971e+08 \\\\ \\hline\n",
       "10.00 & 0.03000 & 3.000e+08 & 0.02998 & 0.03971 & 3.971e+08 \\\\ \\hline\n",
       "\\end{array}$"
      ],
      "text/plain": [
       "<IPython.core.display.Math object>"
      ]
     },
     "metadata": {},
     "output_type": "display_data"
    }
   ],
   "source": [
    "# LaTeX table header\n",
    "latex_table = r\"\"\"\n",
    "\\begin{array}{|c|c|c|c|c|c|}\n",
    "\\hline\n",
    "f (\\text{GHz}) & \\lambda_{w,\\text{meas}} (m) & v_{p,\\text{meas}} (m/s) & \\lambda_0 (m) & \\lambda_w (m) & v_p (m/s) \\\\\n",
    "\\hline\n",
    "\"\"\"\n",
    "\n",
    "# Loop through measurements\n",
    "for f, lambda_w_meas in measurements:\n",
    "    lambda_0 = c / f  # Free space wavelength\n",
    "    lambda_w_theor = lambda_0 / (np.sqrt(1 - (lambda_0 / (2 * a))**2))  # Theoretical guided wavelength\n",
    "    v_theor = lambda_w_theor * f  # Theoretical phase velocity\n",
    "    v_meas = lambda_w_meas * f  # Measured phase velocity\n",
    "    \n",
    "    # Append data row to LaTeX table\n",
    "    latex_table += f\"{f/1e9:.2f} & {lambda_w_meas:.5f} & {v_meas:.3e} & {lambda_0:.5f} & {lambda_w_theor:.5f} & {v_theor:.3e} \\\\\\\\ \\\\hline\\n\"\n",
    "\n",
    "# LaTeX table footer\n",
    "latex_table += \"\\\\end{array}\"\n",
    "\n",
    "# Display the table\n",
    "display(Math(latex_table))\n"
   ]
  },
  {
   "cell_type": "code",
   "execution_count": null,
   "metadata": {},
   "outputs": [],
   "source": []
  }
 ],
 "metadata": {
  "kernelspec": {
   "display_name": "base",
   "language": "python",
   "name": "python3"
  },
  "language_info": {
   "codemirror_mode": {
    "name": "ipython",
    "version": 3
   },
   "file_extension": ".py",
   "mimetype": "text/x-python",
   "name": "python",
   "nbconvert_exporter": "python",
   "pygments_lexer": "ipython3",
   "version": "3.12.4"
  }
 },
 "nbformat": 4,
 "nbformat_minor": 2
}
